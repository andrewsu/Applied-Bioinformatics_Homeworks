{
 "cells": [
  {
   "cell_type": "markdown",
   "metadata": {},
   "source": [
    "# 1.5 Redirection and pipes\n",
    "\n",
    "This notebook will demonstrate how to use redirection and pipes to store the outputs of a command in a file and/or to chain commands in a sequence."
   ]
  },
  {
   "cell_type": "markdown",
   "metadata": {},
   "source": [
    "#### How many txt files are in `data/tmp`?\n",
    "```\n",
    "%%bash\n",
    "ls data/tmp/*.txt | wc -l\n",
    "```"
   ]
  },
  {
   "cell_type": "markdown",
   "metadata": {},
   "source": [
    "#### save list of txt files in `data/tmp` to a file list, and append the list of files in `data/art`.\n",
    "Find and correct the error...\n",
    "```\n",
    "%%bash\n",
    "ls data/tmp/*.txt > file_list.txt\n",
    "ls data/art > file_list.txt\n",
    "```"
   ]
  },
  {
   "cell_type": "markdown",
   "metadata": {},
   "source": [
    "#### Count the number of painters in `artists.txt` after filtering out the French painters\n",
    "```\n",
    "%%bash\n",
    "grep painter data/art/artists.txt | grep -v 'French painter' | wc -l\n",
    "```"
   ]
  },
  {
   "cell_type": "markdown",
   "metadata": {},
   "source": [
    "## Homework"
   ]
  },
  {
   "cell_type": "markdown",
   "metadata": {},
   "source": [
    "### HW1: Count the number of Dutch artists that are not from Amsterdam."
   ]
  },
  {
   "cell_type": "markdown",
   "metadata": {},
   "source": [
    "### HW2: Sort the Italian painters in `artists.txt` by last name."
   ]
  },
  {
   "cell_type": "markdown",
   "metadata": {},
   "source": [
    "### HW3: Count how many Italian sculptors are *either* from the Medieval period or the Baroque period."
   ]
  }
 ],
 "metadata": {
  "kernelspec": {
   "display_name": "Python 3",
   "language": "python",
   "name": "python3"
  },
  "language_info": {
   "codemirror_mode": {
    "name": "ipython",
    "version": 3
   },
   "file_extension": ".py",
   "mimetype": "text/x-python",
   "name": "python",
   "nbconvert_exporter": "python",
   "pygments_lexer": "ipython3",
   "version": "3.5.2"
  }
 },
 "nbformat": 4,
 "nbformat_minor": 2
}
