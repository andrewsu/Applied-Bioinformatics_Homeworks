{
 "cells": [
  {
   "cell_type": "markdown",
   "metadata": {},
   "source": [
    "# 1.3 jupyter basics\n",
    "\n",
    "\n",
    "This notebook will demonstrate the basics of working with jupyter notebooks.  We'll practice using the bash commands we learned in the previous slide deck."
   ]
  },
  {
   "cell_type": "markdown",
   "metadata": {},
   "source": [
    "## Creating and running cells\n",
    "First, create a new cell below this one by clicking on this cell and the selecting \"Insert\"->\"Insert Cell Below\".  (NOTE: If you accidentally double-click on this cell and go in *edit mode*, you can return to *command mode* by clicking the \"Run\" button above.)\n",
    "\n",
    "After you've created your new cell, type `2+3` and run the cell.  Play around with other arithmetic operations."
   ]
  },
  {
   "cell_type": "markdown",
   "metadata": {},
   "source": [
    "## Running bash commands\n",
    "\n",
    "#### Practice some of your bash commands by adding `%%bash` to the start of a cell.\n",
    "For example, type these commands into a new cell and run it:\n",
    "```\n",
    "%%bash\n",
    "pwd\n",
    "```"
   ]
  },
  {
   "cell_type": "markdown",
   "metadata": {},
   "source": [
    "#### Examine the contents of the current directory:\n",
    "```\n",
    "%%bash\n",
    "ls\n",
    "```"
   ]
  },
  {
   "cell_type": "markdown",
   "metadata": {},
   "source": [
    "#### Examine the contents of the `data/art` subdirectory\n",
    "```\n",
    "%%bash\n",
    "ls data/art\n",
    "```"
   ]
  },
  {
   "cell_type": "markdown",
   "metadata": {},
   "source": [
    "#### Examine the context of the `artists.txt` file\n",
    "```\n",
    "%%bash\n",
    "cd data/art\n",
    "less artists.txt\n",
    "```"
   ]
  },
  {
   "cell_type": "markdown",
   "metadata": {},
   "source": [
    "#### What year was the painter Giuseppe Abbati born in?\n",
    "Find and correct the error...\n",
    "```\n",
    "%%bash\n",
    "cd data/art\n",
    "grep Abbati artists.txt\n",
    "```"
   ]
  },
  {
   "cell_type": "markdown",
   "metadata": {},
   "source": [
    "#### How many Italian painters are listed in `artists.txt`?\n",
    "Find and correct the error...\n",
    "```\n",
    "%%bash\n",
    "cd /data/art\n",
    "grep -c Italian painters artists.txt\n",
    "```"
   ]
  },
  {
   "cell_type": "markdown",
   "metadata": {},
   "source": [
    "## Homework\n",
    "\n",
    "These problems will test your understanding of both basic bash commands and of the jupyter notebook.  Answer each of the questions below by creating and executing a new code cell underneath each question."
   ]
  },
  {
   "cell_type": "markdown",
   "metadata": {},
   "source": [
    "### HW1: Use the `ls` command to sort all files in `data/art` by file size."
   ]
  },
  {
   "cell_type": "markdown",
   "metadata": {},
   "source": [
    "### HW2: Count the number of artists in `artists.txt` *excluding* French painters."
   ]
  },
  {
   "cell_type": "markdown",
   "metadata": {},
   "source": [
    "### HW3: List only the csv files in `data/tmp`."
   ]
  }
 ],
 "metadata": {
  "kernelspec": {
   "display_name": "Python 3",
   "language": "python",
   "name": "python3"
  },
  "language_info": {
   "codemirror_mode": {
    "name": "ipython",
    "version": 3
   },
   "file_extension": ".py",
   "mimetype": "text/x-python",
   "name": "python",
   "nbconvert_exporter": "python",
   "pygments_lexer": "ipython3",
   "version": "3.5.2"
  }
 },
 "nbformat": 4,
 "nbformat_minor": 2
}
