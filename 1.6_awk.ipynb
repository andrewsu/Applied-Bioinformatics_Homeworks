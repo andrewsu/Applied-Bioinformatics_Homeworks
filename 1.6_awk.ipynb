{
 "cells": [
  {
   "cell_type": "markdown",
   "metadata": {},
   "source": [
    "# 1.6 awk\n",
    "\n",
    "This notebook will demonstrate the basics of using `awk` to extract specific fields from within data files."
   ]
  },
  {
   "cell_type": "markdown",
   "metadata": {},
   "source": [
    "#### manual inspection of `artists.txt`\n",
    "\n",
    "There are at least two options for loading `artists.txt` into your favorite spreadsheet program:\n",
    "\n",
    "* you already have the file on your computer somewhere on your file system, so you can load it from there (if you can figure it out)\n",
    "* you can download the text file from https://raw.githubusercontent.com/SuLab/Applied-Bioinformatics/master/Module-1_bash-jupyter-git/data/art/artists.txt\n",
    "\n",
    "Note that every row has four columns. "
   ]
  },
  {
   "cell_type": "markdown",
   "metadata": {},
   "source": [
    "#### confirm using awk that each row has four columns\n",
    "Find and fix the error.\n",
    "\n",
    "```\n",
    "%%bash\n",
    "awk '{print NF}' artists.txt\n",
    "```"
   ]
  },
  {
   "cell_type": "markdown",
   "metadata": {},
   "source": [
    "#### Print the third column\n",
    "Find and fix the error.\n",
    "```\n",
    "%%bash\n",
    "awk '{print $3}' artists.txt\n",
    "```"
   ]
  },
  {
   "cell_type": "markdown",
   "metadata": {},
   "source": [
    "#### Use `uniq` (and another command) to find the most common art periods\n",
    "Find and fix the error(s).\n",
    "```\n",
    "%%bash\n",
    "awk '{print $3}' artists.txt | uniq\n",
    "```"
   ]
  },
  {
   "cell_type": "markdown",
   "metadata": {},
   "source": [
    "## Homework"
   ]
  },
  {
   "cell_type": "markdown",
   "metadata": {},
   "source": [
    "### HW1: Repeat the above command (finding the most common art periods) restricting to Dutch painters only.\n",
    "HINT: start by searching/filtering for Dutch painters..."
   ]
  },
  {
   "cell_type": "markdown",
   "metadata": {},
   "source": [
    "### HW2: Find the most common last names among all artists in `artists.txt`.\n",
    "HINT: you will use `awk`, `sort`, and `uniq`, and you may use one or more of those commands multiple times"
   ]
  }
 ],
 "metadata": {
  "kernelspec": {
   "display_name": "R",
   "language": "R",
   "name": "ir"
  },
  "language_info": {
   "codemirror_mode": "r",
   "file_extension": ".r",
   "mimetype": "text/x-r-source",
   "name": "R",
   "pygments_lexer": "r",
   "version": "3.5.1"
  }
 },
 "nbformat": 4,
 "nbformat_minor": 2
}
