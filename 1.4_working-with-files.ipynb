{
 "cells": [
  {
   "cell_type": "markdown",
   "metadata": {},
   "source": [
    "# 1.4 Working with files in bash\n",
    "\n",
    "\n",
    "This notebook will extend your knowledge of commonly-used bash commands, specifically in the area of inspecting and manipulating files."
   ]
  },
  {
   "cell_type": "markdown",
   "metadata": {},
   "source": [
    "#### How many lines are there in `artists.txt`? \n",
    "\n",
    "```\n",
    "%%bash\n",
    "cd data/art\n",
    "wc -l artists.txt\n",
    "```"
   ]
  },
  {
   "cell_type": "markdown",
   "metadata": {},
   "source": [
    "#### Print the top 15 lines of artists.txt\n",
    "Find and correct the error...\n",
    "```\n",
    "%%bash\n",
    "cd data/art\n",
    "head artists.txt\n",
    "```"
   ]
  },
  {
   "cell_type": "markdown",
   "metadata": {},
   "source": [
    "#### Now print the bottom 15 lines of artists.txt\n",
    "Do it without the code prompt"
   ]
  },
  {
   "cell_type": "markdown",
   "metadata": {},
   "source": [
    "#### Sort `artists.txt` by last name (first column)\n",
    "```\n",
    "%%bash\n",
    "cd data/art\n",
    "sort artists.txt\n",
    "```"
   ]
  },
  {
   "cell_type": "markdown",
   "metadata": {},
   "source": [
    "#### Copy `artists.txt` to a new file called `temp_artists.txt`"
   ]
  },
  {
   "cell_type": "markdown",
   "metadata": {},
   "source": [
    "#### Move `temp_artists.txt` to `temp_artists2.txt`"
   ]
  },
  {
   "cell_type": "markdown",
   "metadata": {},
   "source": [
    "#### Create a blank file `temp_artists3.txt` using touch"
   ]
  },
  {
   "cell_type": "markdown",
   "metadata": {},
   "source": [
    "#### Delete all temporary files \n",
    "Bonus points if you use file globbing"
   ]
  },
  {
   "cell_type": "markdown",
   "metadata": {},
   "source": [
    "## Homework\n"
   ]
  },
  {
   "cell_type": "markdown",
   "metadata": {},
   "source": [
    "### HW1: Sort `artists.txt` by last name (first column) in reverse alphabetical order"
   ]
  },
  {
   "cell_type": "markdown",
   "metadata": {},
   "source": [
    "### HW2: Sort `artists.txt` by birthdate (second column)"
   ]
  },
  {
   "cell_type": "markdown",
   "metadata": {},
   "source": [
    "### HW3: There is a ubuntu command to randomly sample lines from a text file. Find out what it is and type it in a markdown cell below.  \n",
    "BONUS: use that command to get 20 random lines from `artists.txt`. (NOTE: MacOS users don't have this command installed by default, so you would have to use homebrew to install and use this command.)"
   ]
  }
 ],
 "metadata": {
  "kernelspec": {
   "display_name": "Python 3",
   "language": "python",
   "name": "python3"
  },
  "language_info": {
   "codemirror_mode": {
    "name": "ipython",
    "version": 3
   },
   "file_extension": ".py",
   "mimetype": "text/x-python",
   "name": "python",
   "nbconvert_exporter": "python",
   "pygments_lexer": "ipython3",
   "version": "3.5.2"
  }
 },
 "nbformat": 4,
 "nbformat_minor": 2
}
